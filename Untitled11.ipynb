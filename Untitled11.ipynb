{
 "cells": [
  {
   "cell_type": "code",
   "execution_count": null,
   "metadata": {},
   "outputs": [],
   "source": [
    "try:\n",
    "    s=int(input(\"enter data : \"))\n",
    "    f=open(\"C:\\\\Users\\\\Rachit\\\\hello1.txt\",\"w\")\n",
    "    f.write(\"yo\")\n",
    "    1/0\n",
    "except :\n",
    "    print(\"no integer error\")\n",
    "else :\n",
    "    print(\"integer value detected\")\n",
    "    print(s)"
   ]
  }
 ],
 "metadata": {
  "kernelspec": {
   "display_name": "Python 3",
   "language": "python",
   "name": "python3"
  },
  "language_info": {
   "codemirror_mode": {
    "name": "ipython",
    "version": 3
   },
   "file_extension": ".py",
   "mimetype": "text/x-python",
   "name": "python",
   "nbconvert_exporter": "python",
   "pygments_lexer": "ipython3",
   "version": "3.7.3"
  }
 },
 "nbformat": 4,
 "nbformat_minor": 2
}
