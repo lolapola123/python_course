{
 "cells": [
  {
   "cell_type": "markdown",
   "metadata": {},
   "source": [
    "## assignment diciotnary"
   ]
  },
  {
   "cell_type": "code",
   "execution_count": 7,
   "metadata": {},
   "outputs": [
    {
     "name": "stdout",
     "output_type": "stream",
     "text": [
      "student in class:\n",
      "rahul\n",
      "roll number \n",
      "1\n",
      "student in class:\n",
      "rajesh\n",
      "roll number \n",
      "2\n",
      "student in class:\n",
      "raman\n",
      "roll number \n",
      "3\n"
     ]
    }
   ],
   "source": [
    "roll={\"rahul\":1,\n",
    "     \"rajesh\":2,\n",
    "     \"raman\":3,}\n",
    "for x in roll:\n",
    "    print(\"student in class:\")\n",
    "    print(x)\n",
    "    print(\"roll number \")\n",
    "    print(roll[x])"
   ]
  },
  {
   "cell_type": "code",
   "execution_count": 10,
   "metadata": {},
   "outputs": [
    {
     "name": "stdout",
     "output_type": "stream",
     "text": [
      "information about car\n",
      "swift\n",
      "6 lakhs\n",
      "red\n"
     ]
    }
   ],
   "source": [
    "car={\"name\":\"swift\",\n",
    "    \"price\":\"6 lakhs\",\n",
    "    \"color\":\"red\"}\n",
    "print(\"information about car\")\n",
    "for x in car.values():\n",
    "    print(x)"
   ]
  },
  {
   "cell_type": "code",
   "execution_count": 15,
   "metadata": {},
   "outputs": [
    {
     "name": "stdout",
     "output_type": "stream",
     "text": [
      "what you want to know about maggie :price\n",
      "10 rs\n"
     ]
    }
   ],
   "source": [
    "dish={\"name\":\"maggie\",\n",
    "     \"price\":\"10 rs\",\n",
    "     \"serving time\":\"2 minutes\",\n",
    "     \"taste\":\"good\",\n",
    "     \"ingredients\":\"water,noodles,masala\"}\n",
    "data=input(\"what you want to know about maggie :\")\n",
    "print(dish[data])"
   ]
  },
  {
   "cell_type": "code",
   "execution_count": 25,
   "metadata": {},
   "outputs": [
    {
     "name": "stdout",
     "output_type": "stream",
     "text": [
      "words with their opposites\n",
      "good bad\n",
      "small big\n",
      "short tall\n",
      "easy difficult\n"
     ]
    }
   ],
   "source": [
    "opposite={\"good\":\"bad\",\n",
    "          \"small\":\"big\",\n",
    "          \"short\":\"tall\",\n",
    "          \"easy\":\"difficult\"}\n",
    "print(\"words with their opposites\")\n",
    "for x,y in opposite.items():\n",
    "    print(x,y)\n",
    "    "
   ]
  },
  {
   "cell_type": "code",
   "execution_count": 2,
   "metadata": {},
   "outputs": [
    {
     "data": {
      "text/plain": [
       "{'india': ('rohit', 'dhawan'), 'australia': ('finch', 'warner')}"
      ]
     },
     "execution_count": 2,
     "metadata": {},
     "output_type": "execute_result"
    }
   ],
   "source": [
    "partnership={\"india\":(\"rohit\",\"dhawan\"),\"australia\":(\"finch\",\"warner\"),\"nz\":(\"guptil\",\"munroe\"),\n",
    "            \"sa\":(\"amla\",\"de kock\")}\n",
    "data=input(\"enter country of which u want to know opening batsmen\")\n",
    "\n",
    "\n"
   ]
  },
  {
   "cell_type": "code",
   "execution_count": null,
   "metadata": {},
   "outputs": [],
   "source": []
  }
 ],
 "metadata": {
  "kernelspec": {
   "display_name": "Python 3",
   "language": "python",
   "name": "python3"
  },
  "language_info": {
   "codemirror_mode": {
    "name": "ipython",
    "version": 3
   },
   "file_extension": ".py",
   "mimetype": "text/x-python",
   "name": "python",
   "nbconvert_exporter": "python",
   "pygments_lexer": "ipython3",
   "version": "3.7.3"
  }
 },
 "nbformat": 4,
 "nbformat_minor": 2
}
