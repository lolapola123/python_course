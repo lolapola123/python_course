{
 "cells": [
  {
   "cell_type": "code",
   "execution_count": 3,
   "metadata": {},
   "outputs": [
    {
     "name": "stdout",
     "output_type": "stream",
     "text": [
      "y    e      s\n",
      "welconme\n"
     ]
    }
   ],
   "source": [
    "name=\"\".join(input().split()).lower()\n",
    "if name==\"yes\" :\n",
    "    print(\"welconme\")\n",
    "else : \n",
    "    print(\"bhag\")"
   ]
  },
  {
   "cell_type": "code",
   "execution_count": 5,
   "metadata": {},
   "outputs": [
    {
     "name": "stdout",
     "output_type": "stream",
     "text": [
      "enter 3 numbers :1 23 3\n",
      "23\n"
     ]
    }
   ],
   "source": [
    "x,y,z=map(int,input(\"enter 3 numbers :\").split(\" \"))\n",
    "if x>y :\n",
    "    if x>z :\n",
    "        print(x)\n",
    "    elif z>x :\n",
    "        print(z)\n",
    "elif y>z :\n",
    "    print(y)\n",
    "else :\n",
    "    print(z)\n",
    "    \n",
    "    \n",
    "    "
   ]
  },
  {
   "cell_type": "code",
   "execution_count": 3,
   "metadata": {},
   "outputs": [
    {
     "name": "stdout",
     "output_type": "stream",
     "text": [
      "p y t h o n\n"
     ]
    }
   ],
   "source": [
    "print(*\"python\")"
   ]
  },
  {
   "cell_type": "code",
   "execution_count": 7,
   "metadata": {},
   "outputs": [
    {
     "name": "stdout",
     "output_type": "stream",
     "text": [
      "r a c\n"
     ]
    }
   ],
   "source": [
    "name = str(input().split(\" \"))"
   ]
  },
  {
   "cell_type": "code",
   "execution_count": 11,
   "metadata": {},
   "outputs": [
    {
     "ename": "NameError",
     "evalue": "name 'split' is not defined",
     "output_type": "error",
     "traceback": [
      "\u001b[1;31m---------------------------------------------------------------------------\u001b[0m",
      "\u001b[1;31mNameError\u001b[0m                                 Traceback (most recent call last)",
      "\u001b[1;32m<ipython-input-11-08f05e6f4bd6>\u001b[0m in \u001b[0;36m<module>\u001b[1;34m\u001b[0m\n\u001b[1;32m----> 1\u001b[1;33m \u001b[0mhelp\u001b[0m\u001b[1;33m(\u001b[0m\u001b[0msplit\u001b[0m\u001b[1;33m(\u001b[0m\u001b[1;33m)\u001b[0m\u001b[1;33m)\u001b[0m\u001b[1;33m\u001b[0m\u001b[1;33m\u001b[0m\u001b[0m\n\u001b[0m",
      "\u001b[1;31mNameError\u001b[0m: name 'split' is not defined"
     ]
    }
   ],
   "source": [
    "help(split())"
   ]
  },
  {
   "cell_type": "code",
   "execution_count": 13,
   "metadata": {},
   "outputs": [
    {
     "name": "stdout",
     "output_type": "stream",
     "text": [
      "No Python documentation found for 'split()'.\n",
      "Use help() to get the interactive help utility.\n",
      "Use help(str) for help on the str class.\n",
      "\n"
     ]
    }
   ],
   "source": [
    "help(\"split()\")"
   ]
  },
  {
   "cell_type": "code",
   "execution_count": 3,
   "metadata": {},
   "outputs": [
    {
     "name": "stdout",
     "output_type": "stream",
     "text": [
      "1 2 3\n",
      "3\n"
     ]
    }
   ],
   "source": [
    "a,b,c=map(int,input().split())\n",
    "if a>=b and a>=c:\n",
    "    f=a\n",
    "elif b>=c:\n",
    "    f=b\n",
    "else :\n",
    "    f=c\n",
    "print(f)\n",
    "\n"
   ]
  },
  {
   "cell_type": "code",
   "execution_count": 11,
   "metadata": {},
   "outputs": [
    {
     "name": "stdout",
     "output_type": "stream",
     "text": [
      "government\n",
      "hello\n",
      "salary: 50\n",
      "less loan\n"
     ]
    }
   ],
   "source": [
    "job=\"\".join(input().split()).lower()\n",
    "if job==\"private\":\n",
    "    print(\"no loan\")\n",
    "elif job==\"government\":\n",
    "    print(\"hello\")\n",
    "    if int(input(\"salary: \"))>40000:\n",
    "        print(\"approved\")\n",
    "    else :\n",
    "        print(\"less loan\")\n",
    "elif job==\"business\":\n",
    "    print(\"hello\")\n",
    "    if int(input(\"turnover :\"))>500000:\n",
    "        print(\"approved\")\n",
    "    else : \n",
    "        print(\"no loan\")\n",
    "else :\n",
    "    print(\"bhag\")"
   ]
  },
  {
   "cell_type": "code",
   "execution_count": 1,
   "metadata": {},
   "outputs": [],
   "source": [
    "from getpass import getpass\n",
    "from random import randint\n",
    "from time import sleep\n",
    "\n"
   ]
  },
  {
   "cell_type": "code",
   "execution_count": 3,
   "metadata": {},
   "outputs": [
    {
     "name": "stdout",
     "output_type": "stream",
     "text": [
      "<function name at 0x00000259EB332488>\n"
     ]
    }
   ],
   "source": [
    "def name():\n",
    "    return name\n",
    "x=name()\n",
    "print(x)"
   ]
  },
  {
   "cell_type": "code",
   "execution_count": 8,
   "metadata": {},
   "outputs": [
    {
     "name": "stdout",
     "output_type": "stream",
     "text": [
      "yes 9\n",
      "yes 10\n",
      "2585221342888\n",
      "2585221342072\n"
     ]
    }
   ],
   "source": [
    "def globl(a):\n",
    "    def local(b):\n",
    "        if b<18:\n",
    "            print(f\"yes {a}\")\n",
    "        else:\n",
    "            print(f\" false {a}\")\n",
    "    return local\n",
    "data=globl(9)\n",
    "data(10)\n",
    "data1=globl(10)\n",
    "data1(10)\n",
    "print(id(data))\n",
    "print(id(data1))veen =  "
   ]
  },
  {
   "cell_type": "code",
   "execution_count": 11,
   "metadata": {},
   "outputs": [
    {
     "name": "stdout",
     "output_type": "stream",
     "text": [
      "5\n",
      "5\n"
     ]
    },
    {
     "data": {
      "text/plain": [
       "120"
      ]
     },
     "execution_count": 11,
     "metadata": {},
     "output_type": "execute_result"
    }
   ],
   "source": [
    "fact = lambda n : 1 if n==1 else n*fact(n-1)\n",
    "print(int(input()))\n",
    "fact(5)"
   ]
  },
  {
   "cell_type": "code",
   "execution_count": 13,
   "metadata": {},
   "outputs": [
    {
     "data": {
      "text/plain": [
       "3"
      ]
     },
     "execution_count": 13,
     "metadata": {},
     "output_type": "execute_result"
    }
   ],
   "source": [
    "greatest=lambda a,b,c: a if a>b and a>c else b if b>c else c\n",
    "greatest(1,2,3)"
   ]
  },
  {
   "cell_type": "code",
   "execution_count": null,
   "metadata": {},
   "outputs": [],
   "source": []
  }
 ],
 "metadata": {
  "kernelspec": {
   "display_name": "Python 3",
   "language": "python",
   "name": "python3"
  },
  "language_info": {
   "codemirror_mode": {
    "name": "ipython",
    "version": 3
   },
   "file_extension": ".py",
   "mimetype": "text/x-python",
   "name": "python",
   "nbconvert_exporter": "python",
   "pygments_lexer": "ipython3",
   "version": "3.7.3"
  }
 },
 "nbformat": 4,
 "nbformat_minor": 2
}
