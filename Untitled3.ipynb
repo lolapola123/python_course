{
 "cells": [
  {
   "cell_type": "code",
   "execution_count": 5,
   "metadata": {},
   "outputs": [
    {
     "name": "stdout",
     "output_type": "stream",
     "text": [
      "table you want: 5\n",
      "5\n",
      "10\n",
      "15\n",
      "20\n",
      "25\n",
      "30\n",
      "35\n",
      "40\n",
      "45\n",
      "50\n",
      "table written successfuly\n"
     ]
    }
   ],
   "source": [
    "n=int(input(\"table you want: \"))\n",
    "c=1\n",
    "while c<=10:\n",
    "    print(n*c)\n",
    "    c=c+1\n",
    "else :\n",
    "    print(\"table written successfuly\")"
   ]
  },
  {
   "cell_type": "code",
   "execution_count": null,
   "metadata": {},
   "outputs": [
    {
     "name": "stdout",
     "output_type": "stream",
     "text": [
      "\n",
      "72\n",
      "\n",
      "66\n",
      "\n",
      "42\n",
      "\n",
      "4\n",
      "\n",
      "27\n",
      "\n",
      "69\n",
      "\n",
      "34\n"
     ]
    }
   ],
   "source": [
    "from random import randint\n",
    "while not input():\n",
    "    print(randint(1,100))\n",
    "else :\n",
    "    print(\"done\")"
   ]
  },
  {
   "cell_type": "code",
   "execution_count": 3,
   "metadata": {},
   "outputs": [
    {
     "name": "stdout",
     "output_type": "stream",
     "text": [
      "enter your number:10\n",
      "less soch\n",
      "enter your number:3\n",
      "more soch\n",
      "enter your number:4\n",
      "more soch\n",
      "enter your number:5\n",
      "more soch\n",
      "enter your number:6\n",
      "more soch\n",
      "computer choice was 8\n",
      "game over\n"
     ]
    }
   ],
   "source": [
    "from random import randint,choice\n",
    "computer=randint(1,10)\n",
    "c=1\n",
    "while c<=5:\n",
    "    player=int(input(\"enter your number:\"))\n",
    "    if computer<player:\n",
    "        print(\"less soch\")\n",
    "        c=c+1\n",
    "        continue\n",
    "    elif computer>player:\n",
    "        print(\"more soch\")\n",
    "        c=c+1\n",
    "        continue\n",
    "    elif player>100:\n",
    "        print(\"less\")\n",
    "        c=c+1\n",
    "        continue\n",
    "    elif computer==player :\n",
    "        print(\"u are correct\")\n",
    "        c=c+1\n",
    "        break\n",
    "else :\n",
    "    print(f\"computer choice was {computer}\")\n",
    "    print(\"game over\")\n",
    "    "
   ]
  },
  {
   "cell_type": "code",
   "execution_count": null,
   "metadata": {},
   "outputs": [],
   "source": [
    "7"
   ]
  }
 ],
 "metadata": {
  "kernelspec": {
   "display_name": "Python 3",
   "language": "python",
   "name": "python3"
  },
  "language_info": {
   "codemirror_mode": {
    "name": "ipython",
    "version": 3
   },
   "file_extension": ".py",
   "mimetype": "text/x-python",
   "name": "python",
   "nbconvert_exporter": "python",
   "pygments_lexer": "ipython3",
   "version": "3.7.3"
  }
 },
 "nbformat": 4,
 "nbformat_minor": 2
}
